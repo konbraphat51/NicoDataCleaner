{
  "nbformat": 4,
  "nbformat_minor": 0,
  "metadata": {
    "colab": {
      "provenance": []
    },
    "kernelspec": {
      "name": "python3",
      "display_name": "Python 3"
    },
    "language_info": {
      "name": "python"
    }
  },
  "cells": [
    {
      "cell_type": "code",
      "execution_count": 2,
      "metadata": {
        "id": "q3orYxJibJzj"
      },
      "outputs": [],
      "source": [
        "import glob\n",
        "\n",
        "files = glob.glob(\"/content/*.txt\")"
      ]
    },
    {
      "cell_type": "code",
      "source": [
        "from json import loads\n",
        "\n",
        "tags = []\n",
        "\n",
        "for file in files:\n",
        "  with open(file) as f:\n",
        "    raw = f.read()\n",
        "\n",
        "  for line in raw.split(\"\\n\")[:-1]:\n",
        "    j = loads(line)\n",
        "\n",
        "    for tag in j[\"tags\"].split():\n",
        "      tags.append((j[\"upload_time\"], tag))\n",
        "\n",
        "len(tags)"
      ],
      "metadata": {
        "colab": {
          "base_uri": "https://localhost:8080/"
        },
        "id": "0wl7aEakcW9W",
        "outputId": "c1f8c916-b1a7-4630-9817-4a01461ab45d"
      },
      "execution_count": 4,
      "outputs": [
        {
          "output_type": "execute_result",
          "data": {
            "text/plain": [
              "761824"
            ]
          },
          "metadata": {},
          "execution_count": 4
        }
      ]
    },
    {
      "cell_type": "code",
      "source": [
        "with open(\"/content/tags.csv\", \"w\", encoding=\"utf-8\") as f:\n",
        "  strs = []\n",
        "  for d in tags:\n",
        "    this_str = d[0]\n",
        "    this_str += \",\"\n",
        "    this_str += d[1].replace(\",\", \" \").replace(\"\\n\", \" \")\n",
        "    strs.append(this_str)\n",
        "\n",
        "  f.write(\"\\n\".join(strs))"
      ],
      "metadata": {
        "id": "44N8-QCOgwjh"
      },
      "execution_count": 6,
      "outputs": []
    },
    {
      "cell_type": "code",
      "source": [],
      "metadata": {
        "id": "oylWYFlriTBl"
      },
      "execution_count": null,
      "outputs": []
    }
  ]
}